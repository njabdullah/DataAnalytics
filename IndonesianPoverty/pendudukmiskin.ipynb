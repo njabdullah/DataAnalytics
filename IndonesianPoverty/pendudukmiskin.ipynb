{
 "cells": [
  {
   "cell_type": "markdown",
   "metadata": {},
   "source": [
    "# Infografis Penduduk Miskin Indonesia"
   ]
  },
  {
   "cell_type": "markdown",
   "metadata": {},
   "source": [
    "---\n",
    "---\n",
    "## **IMPORT LIBRARIES**\n",
    "---\n",
    "---"
   ]
  },
  {
   "cell_type": "code",
   "execution_count": 1,
   "metadata": {},
   "outputs": [],
   "source": [
    "import pandas as pd\n",
    "import numpy as np"
   ]
  },
  {
   "cell_type": "markdown",
   "metadata": {},
   "source": [
    "---\n",
    "---\n",
    "## **DATA WRANGLING**\n",
    "---\n",
    "---"
   ]
  },
  {
   "cell_type": "markdown",
   "metadata": {},
   "source": [
    "### **DATA GATHERING**"
   ]
  },
  {
   "cell_type": "code",
   "execution_count": 2,
   "metadata": {},
   "outputs": [
    {
     "data": {
      "text/html": [
       "<div>\n",
       "<style scoped>\n",
       "    .dataframe tbody tr th:only-of-type {\n",
       "        vertical-align: middle;\n",
       "    }\n",
       "\n",
       "    .dataframe tbody tr th {\n",
       "        vertical-align: top;\n",
       "    }\n",
       "\n",
       "    .dataframe thead th {\n",
       "        text-align: right;\n",
       "    }\n",
       "</style>\n",
       "<table border=\"1\" class=\"dataframe\">\n",
       "  <thead>\n",
       "    <tr style=\"text-align: right;\">\n",
       "      <th></th>\n",
       "      <th>Provinsi</th>\n",
       "      <th>2020</th>\n",
       "      <th>2021</th>\n",
       "      <th>2022</th>\n",
       "    </tr>\n",
       "  </thead>\n",
       "  <tbody>\n",
       "    <tr>\n",
       "      <th>0</th>\n",
       "      <td>Aceh</td>\n",
       "      <td>5274.9</td>\n",
       "      <td>5333.7</td>\n",
       "      <td>5407.9</td>\n",
       "    </tr>\n",
       "    <tr>\n",
       "      <th>1</th>\n",
       "      <td>Sumatera Utara</td>\n",
       "      <td>14799.4</td>\n",
       "      <td>14936.2</td>\n",
       "      <td>15115.2</td>\n",
       "    </tr>\n",
       "    <tr>\n",
       "      <th>2</th>\n",
       "      <td>Sumatera Barat</td>\n",
       "      <td>5534.5</td>\n",
       "      <td>5580.2</td>\n",
       "      <td>5640.6</td>\n",
       "    </tr>\n",
       "    <tr>\n",
       "      <th>3</th>\n",
       "      <td>Riau</td>\n",
       "      <td>6394.1</td>\n",
       "      <td>6493.6</td>\n",
       "      <td>6614.4</td>\n",
       "    </tr>\n",
       "    <tr>\n",
       "      <th>4</th>\n",
       "      <td>Kep. Riau</td>\n",
       "      <td>2064.6</td>\n",
       "      <td>2118.2</td>\n",
       "      <td>2179.8</td>\n",
       "    </tr>\n",
       "  </tbody>\n",
       "</table>\n",
       "</div>"
      ],
      "text/plain": [
       "         Provinsi     2020     2021     2022\n",
       "0            Aceh   5274.9   5333.7   5407.9\n",
       "1  Sumatera Utara  14799.4  14936.2  15115.2\n",
       "2  Sumatera Barat   5534.5   5580.2   5640.6\n",
       "3            Riau   6394.1   6493.6   6614.4\n",
       "4       Kep. Riau   2064.6   2118.2   2179.8"
      ]
     },
     "execution_count": 2,
     "metadata": {},
     "output_type": "execute_result"
    }
   ],
   "source": [
    "pendudukraw_df = pd.read_csv(\"data\\\\Jumlah Penduduk Menurut Provinsi di Indonesia.csv\", delimiter=\",\")\n",
    "pendudukraw_df.head()"
   ]
  },
  {
   "cell_type": "code",
   "execution_count": 3,
   "metadata": {},
   "outputs": [
    {
     "data": {
      "text/html": [
       "<div>\n",
       "<style scoped>\n",
       "    .dataframe tbody tr th:only-of-type {\n",
       "        vertical-align: middle;\n",
       "    }\n",
       "\n",
       "    .dataframe tbody tr th {\n",
       "        vertical-align: top;\n",
       "    }\n",
       "\n",
       "    .dataframe thead th {\n",
       "        text-align: right;\n",
       "    }\n",
       "</style>\n",
       "<table border=\"1\" class=\"dataframe\">\n",
       "  <thead>\n",
       "    <tr style=\"text-align: right;\">\n",
       "      <th></th>\n",
       "      <th>Provinsi</th>\n",
       "      <th>2018</th>\n",
       "      <th>2019</th>\n",
       "      <th>2020</th>\n",
       "    </tr>\n",
       "  </thead>\n",
       "  <tbody>\n",
       "    <tr>\n",
       "      <th>0</th>\n",
       "      <td>Aceh</td>\n",
       "      <td>832</td>\n",
       "      <td>810</td>\n",
       "      <td>815</td>\n",
       "    </tr>\n",
       "    <tr>\n",
       "      <th>1</th>\n",
       "      <td>Sumatera Utara</td>\n",
       "      <td>1292</td>\n",
       "      <td>1261</td>\n",
       "      <td>1283</td>\n",
       "    </tr>\n",
       "    <tr>\n",
       "      <th>2</th>\n",
       "      <td>Sumatera Barat</td>\n",
       "      <td>353</td>\n",
       "      <td>343</td>\n",
       "      <td>344</td>\n",
       "    </tr>\n",
       "    <tr>\n",
       "      <th>3</th>\n",
       "      <td>Riau</td>\n",
       "      <td>494</td>\n",
       "      <td>484</td>\n",
       "      <td>483</td>\n",
       "    </tr>\n",
       "    <tr>\n",
       "      <th>4</th>\n",
       "      <td>Jambi</td>\n",
       "      <td>281</td>\n",
       "      <td>273</td>\n",
       "      <td>278</td>\n",
       "    </tr>\n",
       "  </tbody>\n",
       "</table>\n",
       "</div>"
      ],
      "text/plain": [
       "         Provinsi  2018  2019  2020\n",
       "0            Aceh   832   810   815\n",
       "1  Sumatera Utara  1292  1261  1283\n",
       "2  Sumatera Barat   353   343   344\n",
       "3            Riau   494   484   483\n",
       "4           Jambi   281   273   278"
      ]
     },
     "execution_count": 3,
     "metadata": {},
     "output_type": "execute_result"
    }
   ],
   "source": [
    "rawmiskin1_df = pd.read_csv(\"data\\\\Jumlah Penduduk Miskin menurut Provinsi 1.csv\", delimiter=\",\")\n",
    "rawmiskin1_df.head()"
   ]
  },
  {
   "cell_type": "code",
   "execution_count": 4,
   "metadata": {},
   "outputs": [
    {
     "data": {
      "text/html": [
       "<div>\n",
       "<style scoped>\n",
       "    .dataframe tbody tr th:only-of-type {\n",
       "        vertical-align: middle;\n",
       "    }\n",
       "\n",
       "    .dataframe tbody tr th {\n",
       "        vertical-align: top;\n",
       "    }\n",
       "\n",
       "    .dataframe thead th {\n",
       "        text-align: right;\n",
       "    }\n",
       "</style>\n",
       "<table border=\"1\" class=\"dataframe\">\n",
       "  <thead>\n",
       "    <tr style=\"text-align: right;\">\n",
       "      <th></th>\n",
       "      <th>Provinsi</th>\n",
       "      <th>2021</th>\n",
       "      <th>2022</th>\n",
       "      <th>2023</th>\n",
       "    </tr>\n",
       "  </thead>\n",
       "  <tbody>\n",
       "    <tr>\n",
       "      <th>0</th>\n",
       "      <td>Aceh</td>\n",
       "      <td>834.0</td>\n",
       "      <td>807.0</td>\n",
       "      <td>807.0</td>\n",
       "    </tr>\n",
       "    <tr>\n",
       "      <th>1</th>\n",
       "      <td>Sumatera Utara</td>\n",
       "      <td>1344.0</td>\n",
       "      <td>1268.0</td>\n",
       "      <td>1240.0</td>\n",
       "    </tr>\n",
       "    <tr>\n",
       "      <th>2</th>\n",
       "      <td>Sumatera Barat</td>\n",
       "      <td>371.0</td>\n",
       "      <td>335.0</td>\n",
       "      <td>340.0</td>\n",
       "    </tr>\n",
       "    <tr>\n",
       "      <th>3</th>\n",
       "      <td>Riau</td>\n",
       "      <td>501.0</td>\n",
       "      <td>485.0</td>\n",
       "      <td>486.0</td>\n",
       "    </tr>\n",
       "    <tr>\n",
       "      <th>4</th>\n",
       "      <td>Jambi</td>\n",
       "      <td>294.0</td>\n",
       "      <td>279.0</td>\n",
       "      <td>281.0</td>\n",
       "    </tr>\n",
       "  </tbody>\n",
       "</table>\n",
       "</div>"
      ],
      "text/plain": [
       "         Provinsi    2021    2022    2023\n",
       "0            Aceh   834.0   807.0   807.0\n",
       "1  Sumatera Utara  1344.0  1268.0  1240.0\n",
       "2  Sumatera Barat   371.0   335.0   340.0\n",
       "3            Riau   501.0   485.0   486.0\n",
       "4           Jambi   294.0   279.0   281.0"
      ]
     },
     "execution_count": 4,
     "metadata": {},
     "output_type": "execute_result"
    }
   ],
   "source": [
    "rawmiskin2_df = pd.read_csv(\"data\\\\Jumlah Penduduk Miskin menurut Provinsi 2.csv\", delimiter=\",\")\n",
    "rawmiskin2_df.head()"
   ]
  },
  {
   "cell_type": "code",
   "execution_count": 5,
   "metadata": {},
   "outputs": [
    {
     "name": "stdout",
     "output_type": "stream",
     "text": [
      "                Provinsi   2018   2019   2020     2021     2022     2023\n",
      "0                   Aceh    832    810    815    834.0    807.0    807.0\n",
      "1         Sumatera Utara   1292   1261   1283   1344.0   1268.0   1240.0\n",
      "2         Sumatera Barat    353    343    344    371.0    335.0    340.0\n",
      "3                   Riau    494    484    483    501.0    485.0    486.0\n",
      "4                  Jambi    281    273    278    294.0    279.0    281.0\n",
      "5       Sumatera Selatan   1076   1067   1082   1114.0   1045.0   1046.0\n",
      "6               Bengkulu    304    298    303    306.0    297.0    288.0\n",
      "7                Lampung   1092   1041   1049   1084.0   1002.0    971.0\n",
      "8   Kep. Bangka Belitung     70     67     68     73.0     67.0     69.0\n",
      "9         Kepulauan Riau    125    128    132    144.0    152.0    143.0\n",
      "10           DKI Jakarta    372    362    481    502.0    502.0    478.0\n",
      "11            Jawa Barat   3539   3376   3920   4195.0   4071.0   3889.0\n",
      "12           Jawa Tengah   3867   3679   3981   4110.0   3831.0   3792.0\n",
      "13         DI Yogyakarta    450    441    476    506.0    455.0    448.0\n",
      "14            Jawa Timur   4292   4056   4419   4573.0   4181.0   4189.0\n",
      "15                Banten    669    641    776    867.0    814.0    826.0\n",
      "16                  Bali    168    157    165    202.0    206.0    194.0\n",
      "17   Nusa Tenggara Barat    736    706    714    747.0    732.0    751.0\n",
      "18   Nusa Tenggara Timur   1134   1129   1154   1169.0   1132.0   1141.0\n",
      "19      Kalimantan Barat    370    370    367    368.0    350.0    353.0\n",
      "20     Kalimantan Tengah    136    131    133    140.0    145.0    142.0\n",
      "21    Kalimantan Selatan    195    190    188    208.0    196.0    189.0\n",
      "22      Kalimantan Timur    222    221    230    242.0    236.0    231.0\n",
      "23      Kalimantan Utara     50     49     52     53.0     49.0     48.0\n",
      "24        Sulawesi Utara    189    189    192    196.0    185.0    189.0\n",
      "25       Sulawesi Tengah    413    404    399    404.0    388.0    396.0\n",
      "26      Sulawesi Selatan    780    760    777    785.0    777.0    789.0\n",
      "27     Sulawesi Tenggara    302    300    302    319.0    310.0    322.0\n",
      "28             Gorontalo    188    185    185    186.0    185.0    184.0\n",
      "29        Sulawesi Barat    153    152    152    157.0    166.0    164.0\n",
      "30                Maluku    318    320    318    322.0    291.0    302.0\n",
      "31          Maluku Utara     82     87     86     87.0     80.0     84.0\n",
      "32           Papua Barat    214    208    209    219.0    219.0    215.0\n",
      "33                 Papua    915    901    911    920.0    922.0    915.0\n",
      "34             Indonesia  25675  24786  26424  27543.0  26161.0  25899.0\n"
     ]
    }
   ],
   "source": [
    "# Concatenate the two DataFrames vertically\n",
    "miskinraw_df = pd.merge(rawmiskin1_df, rawmiskin2_df, on='Provinsi', how='inner')\n",
    "\n",
    "# Display the merged DataFrame\n",
    "print(miskinraw_df)"
   ]
  },
  {
   "cell_type": "markdown",
   "metadata": {},
   "source": [
    "### **ASSESSING DATA**"
   ]
  },
  {
   "cell_type": "code",
   "execution_count": 6,
   "metadata": {},
   "outputs": [
    {
     "name": "stdout",
     "output_type": "stream",
     "text": [
      "                Provinsi      2020      2021      2022\n",
      "0                   Aceh    5274.9    5333.7    5407.9\n",
      "1         Sumatera Utara   14799.4   14936.2   15115.2\n",
      "2         Sumatera Barat    5534.5    5580.2    5640.6\n",
      "3                   Riau    6394.1    6493.6    6614.4\n",
      "4              Kep. Riau    2064.6    2118.2    2179.8\n",
      "5                  Jambi    3548.2    3585.1    3631.1\n",
      "6       Sumatera Selatan    8467.4    8550.9    8657.0\n",
      "7   Kep. Bangka Belitung    1455.7    1473.2    1494.6\n",
      "8               Bengkulu    2010.7    2032.9    2060.1\n",
      "9                Lampung    9007.8    9081.8    9176.6\n",
      "10           DKI Jakarta   10562.1   10609.7   10680.0\n",
      "11            Jawa Barat   48274.2   48782.4   49405.8\n",
      "12                Banten   11904.6   12061.5   12252.0\n",
      "13           Jawa Tengah   36516.0   36742.5   37032.4\n",
      "14         DI Yogyakarta    3668.7    3712.9    3761.9\n",
      "15            Jawa Timur   40665.7   40878.8   41150.0\n",
      "16      Kalimantan Barat    5414.4    5470.8    5541.4\n",
      "17     Kalimantan Tengah    2670.0    2702.2    2741.1\n",
      "18    Kalimantan Selatan    4073.6    4122.6    4182.1\n",
      "19      Kalimantan Timur    3766.0    3808.2    3859.8\n",
      "20      Kalimantan Utara     701.8     713.6     727.8\n",
      "21        Sulawesi Utara    2621.9    2638.6    2659.5\n",
      "22             Gorontalo    1171.7    1181.0    1192.7\n",
      "23       Sulawesi Tengah    2985.7    3021.9    3066.1\n",
      "24      Sulawesi Selatan    9073.5    9139.5    9225.8\n",
      "25        Sulawesi Barat    1419.2    1436.8    1458.6\n",
      "26     Sulawesi Tenggara    2624.9    2659.2    2701.7\n",
      "27                  Bali    4317.4    4362.7    4415.1\n",
      "28   Nusa Tenggara Barat    5320.1    5390.0    5473.7\n",
      "29   Nusa Tenggara Timur    5325.6    5387.7    5466.3\n",
      "30                Maluku    1848.9    1862.6    1881.7\n",
      "31          Maluku Utara    1282.9    1299.2    1319.3\n",
      "32           Papua Barat    1134.1    1156.8    1183.3\n",
      "33                 Papua    4303.7    4355.5    4418.6\n",
      "34             Indonesia  270203.9  272682.5  275773.8\n"
     ]
    }
   ],
   "source": [
    "print(pendudukraw_df)"
   ]
  },
  {
   "cell_type": "markdown",
   "metadata": {},
   "source": [
    "(NOTE) We found that the value of the population is not the actual number (aka abbreviated)"
   ]
  },
  {
   "cell_type": "code",
   "execution_count": 7,
   "metadata": {},
   "outputs": [
    {
     "name": "stdout",
     "output_type": "stream",
     "text": [
      "                Provinsi   2018   2019   2020     2021     2022     2023\n",
      "0                   Aceh    832    810    815    834.0    807.0    807.0\n",
      "1         Sumatera Utara   1292   1261   1283   1344.0   1268.0   1240.0\n",
      "2         Sumatera Barat    353    343    344    371.0    335.0    340.0\n",
      "3                   Riau    494    484    483    501.0    485.0    486.0\n",
      "4                  Jambi    281    273    278    294.0    279.0    281.0\n",
      "5       Sumatera Selatan   1076   1067   1082   1114.0   1045.0   1046.0\n",
      "6               Bengkulu    304    298    303    306.0    297.0    288.0\n",
      "7                Lampung   1092   1041   1049   1084.0   1002.0    971.0\n",
      "8   Kep. Bangka Belitung     70     67     68     73.0     67.0     69.0\n",
      "9         Kepulauan Riau    125    128    132    144.0    152.0    143.0\n",
      "10           DKI Jakarta    372    362    481    502.0    502.0    478.0\n",
      "11            Jawa Barat   3539   3376   3920   4195.0   4071.0   3889.0\n",
      "12           Jawa Tengah   3867   3679   3981   4110.0   3831.0   3792.0\n",
      "13         DI Yogyakarta    450    441    476    506.0    455.0    448.0\n",
      "14            Jawa Timur   4292   4056   4419   4573.0   4181.0   4189.0\n",
      "15                Banten    669    641    776    867.0    814.0    826.0\n",
      "16                  Bali    168    157    165    202.0    206.0    194.0\n",
      "17   Nusa Tenggara Barat    736    706    714    747.0    732.0    751.0\n",
      "18   Nusa Tenggara Timur   1134   1129   1154   1169.0   1132.0   1141.0\n",
      "19      Kalimantan Barat    370    370    367    368.0    350.0    353.0\n",
      "20     Kalimantan Tengah    136    131    133    140.0    145.0    142.0\n",
      "21    Kalimantan Selatan    195    190    188    208.0    196.0    189.0\n",
      "22      Kalimantan Timur    222    221    230    242.0    236.0    231.0\n",
      "23      Kalimantan Utara     50     49     52     53.0     49.0     48.0\n",
      "24        Sulawesi Utara    189    189    192    196.0    185.0    189.0\n",
      "25       Sulawesi Tengah    413    404    399    404.0    388.0    396.0\n",
      "26      Sulawesi Selatan    780    760    777    785.0    777.0    789.0\n",
      "27     Sulawesi Tenggara    302    300    302    319.0    310.0    322.0\n",
      "28             Gorontalo    188    185    185    186.0    185.0    184.0\n",
      "29        Sulawesi Barat    153    152    152    157.0    166.0    164.0\n",
      "30                Maluku    318    320    318    322.0    291.0    302.0\n",
      "31          Maluku Utara     82     87     86     87.0     80.0     84.0\n",
      "32           Papua Barat    214    208    209    219.0    219.0    215.0\n",
      "33                 Papua    915    901    911    920.0    922.0    915.0\n",
      "34             Indonesia  25675  24786  26424  27543.0  26161.0  25899.0\n"
     ]
    }
   ],
   "source": [
    "print(miskinraw_df)"
   ]
  },
  {
   "cell_type": "markdown",
   "metadata": {},
   "source": [
    "(NOTE) We found that the value of the poor population is not the actual number (aka abbreviated)\n",
    "\n",
    "(NOTE) We found that there are unconsistant data in province name"
   ]
  },
  {
   "cell_type": "code",
   "execution_count": 8,
   "metadata": {},
   "outputs": [
    {
     "name": "stdout",
     "output_type": "stream",
     "text": [
      "<class 'pandas.core.frame.DataFrame'>\n",
      "RangeIndex: 35 entries, 0 to 34\n",
      "Data columns (total 4 columns):\n",
      " #   Column    Non-Null Count  Dtype  \n",
      "---  ------    --------------  -----  \n",
      " 0   Provinsi  35 non-null     object \n",
      " 1   2020      35 non-null     float64\n",
      " 2   2021      35 non-null     float64\n",
      " 3   2022      35 non-null     float64\n",
      "dtypes: float64(3), object(1)\n",
      "memory usage: 1.2+ KB\n",
      "<class 'pandas.core.frame.DataFrame'>\n",
      "RangeIndex: 35 entries, 0 to 34\n",
      "Data columns (total 7 columns):\n",
      " #   Column    Non-Null Count  Dtype  \n",
      "---  ------    --------------  -----  \n",
      " 0   Provinsi  35 non-null     object \n",
      " 1   2018      35 non-null     int64  \n",
      " 2   2019      35 non-null     int64  \n",
      " 3   2020      35 non-null     int64  \n",
      " 4   2021      35 non-null     float64\n",
      " 5   2022      35 non-null     float64\n",
      " 6   2023      35 non-null     float64\n",
      "dtypes: float64(3), int64(3), object(1)\n",
      "memory usage: 2.0+ KB\n"
     ]
    }
   ],
   "source": [
    "pendudukraw_df.info()\n",
    "miskinraw_df.info()"
   ]
  },
  {
   "cell_type": "markdown",
   "metadata": {},
   "source": [
    "(NOTE) We found inconsistent miskinraw_df data types, especially in terms of population"
   ]
  },
  {
   "cell_type": "code",
   "execution_count": 9,
   "metadata": {},
   "outputs": [
    {
     "data": {
      "text/plain": [
       "Provinsi    0\n",
       "2020        0\n",
       "2021        0\n",
       "2022        0\n",
       "dtype: int64"
      ]
     },
     "execution_count": 9,
     "metadata": {},
     "output_type": "execute_result"
    }
   ],
   "source": [
    "pendudukraw_df.isnull().sum()"
   ]
  },
  {
   "cell_type": "code",
   "execution_count": 10,
   "metadata": {},
   "outputs": [
    {
     "data": {
      "text/plain": [
       "Provinsi    0\n",
       "2018        0\n",
       "2019        0\n",
       "2020        0\n",
       "2021        0\n",
       "2022        0\n",
       "2023        0\n",
       "dtype: int64"
      ]
     },
     "execution_count": 10,
     "metadata": {},
     "output_type": "execute_result"
    }
   ],
   "source": [
    "miskinraw_df.isnull().sum()"
   ]
  },
  {
   "cell_type": "code",
   "execution_count": 11,
   "metadata": {},
   "outputs": [
    {
     "data": {
      "text/plain": [
       "0"
      ]
     },
     "execution_count": 11,
     "metadata": {},
     "output_type": "execute_result"
    }
   ],
   "source": [
    "pendudukraw_df.duplicated().sum()"
   ]
  },
  {
   "cell_type": "code",
   "execution_count": 12,
   "metadata": {},
   "outputs": [
    {
     "data": {
      "text/plain": [
       "0"
      ]
     },
     "execution_count": 12,
     "metadata": {},
     "output_type": "execute_result"
    }
   ],
   "source": [
    "miskinraw_df.duplicated().sum()"
   ]
  },
  {
   "cell_type": "code",
   "execution_count": 13,
   "metadata": {},
   "outputs": [
    {
     "data": {
      "text/html": [
       "<div>\n",
       "<style scoped>\n",
       "    .dataframe tbody tr th:only-of-type {\n",
       "        vertical-align: middle;\n",
       "    }\n",
       "\n",
       "    .dataframe tbody tr th {\n",
       "        vertical-align: top;\n",
       "    }\n",
       "\n",
       "    .dataframe thead th {\n",
       "        text-align: right;\n",
       "    }\n",
       "</style>\n",
       "<table border=\"1\" class=\"dataframe\">\n",
       "  <thead>\n",
       "    <tr style=\"text-align: right;\">\n",
       "      <th></th>\n",
       "      <th>2020</th>\n",
       "      <th>2021</th>\n",
       "      <th>2022</th>\n",
       "    </tr>\n",
       "  </thead>\n",
       "  <tbody>\n",
       "    <tr>\n",
       "      <th>count</th>\n",
       "      <td>35.000000</td>\n",
       "      <td>35.000000</td>\n",
       "      <td>35.000000</td>\n",
       "    </tr>\n",
       "    <tr>\n",
       "      <th>mean</th>\n",
       "      <td>15440.225714</td>\n",
       "      <td>15581.857143</td>\n",
       "      <td>15758.508571</td>\n",
       "    </tr>\n",
       "    <tr>\n",
       "      <th>std</th>\n",
       "      <td>45703.932110</td>\n",
       "      <td>46118.977696</td>\n",
       "      <td>46636.758016</td>\n",
       "    </tr>\n",
       "    <tr>\n",
       "      <th>min</th>\n",
       "      <td>701.800000</td>\n",
       "      <td>713.600000</td>\n",
       "      <td>727.800000</td>\n",
       "    </tr>\n",
       "    <tr>\n",
       "      <th>25%</th>\n",
       "      <td>2343.250000</td>\n",
       "      <td>2378.400000</td>\n",
       "      <td>2419.650000</td>\n",
       "    </tr>\n",
       "    <tr>\n",
       "      <th>50%</th>\n",
       "      <td>4303.700000</td>\n",
       "      <td>4355.500000</td>\n",
       "      <td>4415.100000</td>\n",
       "    </tr>\n",
       "    <tr>\n",
       "      <th>75%</th>\n",
       "      <td>8737.600000</td>\n",
       "      <td>8816.350000</td>\n",
       "      <td>8916.800000</td>\n",
       "    </tr>\n",
       "    <tr>\n",
       "      <th>max</th>\n",
       "      <td>270203.900000</td>\n",
       "      <td>272682.500000</td>\n",
       "      <td>275773.800000</td>\n",
       "    </tr>\n",
       "  </tbody>\n",
       "</table>\n",
       "</div>"
      ],
      "text/plain": [
       "                2020           2021           2022\n",
       "count      35.000000      35.000000      35.000000\n",
       "mean    15440.225714   15581.857143   15758.508571\n",
       "std     45703.932110   46118.977696   46636.758016\n",
       "min       701.800000     713.600000     727.800000\n",
       "25%      2343.250000    2378.400000    2419.650000\n",
       "50%      4303.700000    4355.500000    4415.100000\n",
       "75%      8737.600000    8816.350000    8916.800000\n",
       "max    270203.900000  272682.500000  275773.800000"
      ]
     },
     "execution_count": 13,
     "metadata": {},
     "output_type": "execute_result"
    }
   ],
   "source": [
    "pendudukraw_df.describe()"
   ]
  },
  {
   "cell_type": "code",
   "execution_count": 14,
   "metadata": {},
   "outputs": [
    {
     "data": {
      "text/html": [
       "<div>\n",
       "<style scoped>\n",
       "    .dataframe tbody tr th:only-of-type {\n",
       "        vertical-align: middle;\n",
       "    }\n",
       "\n",
       "    .dataframe tbody tr th {\n",
       "        vertical-align: top;\n",
       "    }\n",
       "\n",
       "    .dataframe thead th {\n",
       "        text-align: right;\n",
       "    }\n",
       "</style>\n",
       "<table border=\"1\" class=\"dataframe\">\n",
       "  <thead>\n",
       "    <tr style=\"text-align: right;\">\n",
       "      <th></th>\n",
       "      <th>2018</th>\n",
       "      <th>2019</th>\n",
       "      <th>2020</th>\n",
       "      <th>2021</th>\n",
       "      <th>2022</th>\n",
       "      <th>2023</th>\n",
       "    </tr>\n",
       "  </thead>\n",
       "  <tbody>\n",
       "    <tr>\n",
       "      <th>count</th>\n",
       "      <td>35.000000</td>\n",
       "      <td>35.000000</td>\n",
       "      <td>35.000000</td>\n",
       "      <td>35.000000</td>\n",
       "      <td>35.000000</td>\n",
       "      <td>35.000000</td>\n",
       "    </tr>\n",
       "    <tr>\n",
       "      <th>mean</th>\n",
       "      <td>1467.085714</td>\n",
       "      <td>1416.342857</td>\n",
       "      <td>1509.942857</td>\n",
       "      <td>1573.857143</td>\n",
       "      <td>1494.885714</td>\n",
       "      <td>1480.028571</td>\n",
       "    </tr>\n",
       "    <tr>\n",
       "      <th>std</th>\n",
       "      <td>4338.237982</td>\n",
       "      <td>4183.958644</td>\n",
       "      <td>4470.160768</td>\n",
       "      <td>4659.920936</td>\n",
       "      <td>4422.427519</td>\n",
       "      <td>4376.137193</td>\n",
       "    </tr>\n",
       "    <tr>\n",
       "      <th>min</th>\n",
       "      <td>50.000000</td>\n",
       "      <td>49.000000</td>\n",
       "      <td>52.000000</td>\n",
       "      <td>53.000000</td>\n",
       "      <td>49.000000</td>\n",
       "      <td>48.000000</td>\n",
       "    </tr>\n",
       "    <tr>\n",
       "      <th>25%</th>\n",
       "      <td>192.000000</td>\n",
       "      <td>189.500000</td>\n",
       "      <td>190.000000</td>\n",
       "      <td>205.000000</td>\n",
       "      <td>201.000000</td>\n",
       "      <td>191.500000</td>\n",
       "    </tr>\n",
       "    <tr>\n",
       "      <th>50%</th>\n",
       "      <td>370.000000</td>\n",
       "      <td>362.000000</td>\n",
       "      <td>367.000000</td>\n",
       "      <td>371.000000</td>\n",
       "      <td>350.000000</td>\n",
       "      <td>353.000000</td>\n",
       "    </tr>\n",
       "    <tr>\n",
       "      <th>75%</th>\n",
       "      <td>873.500000</td>\n",
       "      <td>855.500000</td>\n",
       "      <td>863.000000</td>\n",
       "      <td>893.500000</td>\n",
       "      <td>868.000000</td>\n",
       "      <td>870.500000</td>\n",
       "    </tr>\n",
       "    <tr>\n",
       "      <th>max</th>\n",
       "      <td>25675.000000</td>\n",
       "      <td>24786.000000</td>\n",
       "      <td>26424.000000</td>\n",
       "      <td>27543.000000</td>\n",
       "      <td>26161.000000</td>\n",
       "      <td>25899.000000</td>\n",
       "    </tr>\n",
       "  </tbody>\n",
       "</table>\n",
       "</div>"
      ],
      "text/plain": [
       "               2018          2019          2020          2021          2022  \\\n",
       "count     35.000000     35.000000     35.000000     35.000000     35.000000   \n",
       "mean    1467.085714   1416.342857   1509.942857   1573.857143   1494.885714   \n",
       "std     4338.237982   4183.958644   4470.160768   4659.920936   4422.427519   \n",
       "min       50.000000     49.000000     52.000000     53.000000     49.000000   \n",
       "25%      192.000000    189.500000    190.000000    205.000000    201.000000   \n",
       "50%      370.000000    362.000000    367.000000    371.000000    350.000000   \n",
       "75%      873.500000    855.500000    863.000000    893.500000    868.000000   \n",
       "max    25675.000000  24786.000000  26424.000000  27543.000000  26161.000000   \n",
       "\n",
       "               2023  \n",
       "count     35.000000  \n",
       "mean    1480.028571  \n",
       "std     4376.137193  \n",
       "min       48.000000  \n",
       "25%      191.500000  \n",
       "50%      353.000000  \n",
       "75%      870.500000  \n",
       "max    25899.000000  "
      ]
     },
     "execution_count": 14,
     "metadata": {},
     "output_type": "execute_result"
    }
   ],
   "source": [
    "miskinraw_df.describe()"
   ]
  },
  {
   "cell_type": "markdown",
   "metadata": {},
   "source": [
    "### **CLEANING DATA**"
   ]
  },
  {
   "cell_type": "markdown",
   "metadata": {},
   "source": [
    "We'll clean up\n",
    "1. Conveert the value of poor population into real value\n",
    "2. Convert the value of the poor into real value\n",
    "3. Change the poor population data type to float"
   ]
  },
  {
   "cell_type": "code",
   "execution_count": 15,
   "metadata": {},
   "outputs": [
    {
     "data": {
      "text/html": [
       "<div>\n",
       "<style scoped>\n",
       "    .dataframe tbody tr th:only-of-type {\n",
       "        vertical-align: middle;\n",
       "    }\n",
       "\n",
       "    .dataframe tbody tr th {\n",
       "        vertical-align: top;\n",
       "    }\n",
       "\n",
       "    .dataframe thead th {\n",
       "        text-align: right;\n",
       "    }\n",
       "</style>\n",
       "<table border=\"1\" class=\"dataframe\">\n",
       "  <thead>\n",
       "    <tr style=\"text-align: right;\">\n",
       "      <th></th>\n",
       "      <th>Provinsi</th>\n",
       "      <th>2020</th>\n",
       "      <th>2021</th>\n",
       "      <th>2022</th>\n",
       "    </tr>\n",
       "  </thead>\n",
       "  <tbody>\n",
       "    <tr>\n",
       "      <th>0</th>\n",
       "      <td>Aceh</td>\n",
       "      <td>5274900.0</td>\n",
       "      <td>5333700.0</td>\n",
       "      <td>5407900.0</td>\n",
       "    </tr>\n",
       "    <tr>\n",
       "      <th>1</th>\n",
       "      <td>Sumatera Utara</td>\n",
       "      <td>14799400.0</td>\n",
       "      <td>14936200.0</td>\n",
       "      <td>15115200.0</td>\n",
       "    </tr>\n",
       "    <tr>\n",
       "      <th>2</th>\n",
       "      <td>Sumatera Barat</td>\n",
       "      <td>5534500.0</td>\n",
       "      <td>5580200.0</td>\n",
       "      <td>5640600.0</td>\n",
       "    </tr>\n",
       "    <tr>\n",
       "      <th>3</th>\n",
       "      <td>Riau</td>\n",
       "      <td>6394100.0</td>\n",
       "      <td>6493600.0</td>\n",
       "      <td>6614400.0</td>\n",
       "    </tr>\n",
       "    <tr>\n",
       "      <th>4</th>\n",
       "      <td>Kep. Riau</td>\n",
       "      <td>2064600.0</td>\n",
       "      <td>2118200.0</td>\n",
       "      <td>2179800.0</td>\n",
       "    </tr>\n",
       "  </tbody>\n",
       "</table>\n",
       "</div>"
      ],
      "text/plain": [
       "         Provinsi        2020        2021        2022\n",
       "0            Aceh   5274900.0   5333700.0   5407900.0\n",
       "1  Sumatera Utara  14799400.0  14936200.0  15115200.0\n",
       "2  Sumatera Barat   5534500.0   5580200.0   5640600.0\n",
       "3            Riau   6394100.0   6493600.0   6614400.0\n",
       "4       Kep. Riau   2064600.0   2118200.0   2179800.0"
      ]
     },
     "execution_count": 15,
     "metadata": {},
     "output_type": "execute_result"
    }
   ],
   "source": [
    "# Multiply columns\n",
    "columns_to_multiply = ['2020', '2021', '2022']\n",
    "multiply_result = pendudukraw_df.loc[:, columns_to_multiply] * 1000\n",
    "\n",
    "# Columns to Keep\n",
    "columns_to_keep = ['Provinsi']\n",
    "keep_result = pendudukraw_df.loc[:, columns_to_keep]\n",
    "\n",
    "# Concatenate the multiplied columns with the non-multiplied columns\n",
    "pendudukupdate_df = pd.concat([keep_result, multiply_result], axis=1)\n",
    "\n",
    "pendudukupdate_df.head()\n"
   ]
  },
  {
   "cell_type": "code",
   "execution_count": 16,
   "metadata": {},
   "outputs": [
    {
     "data": {
      "text/html": [
       "<div>\n",
       "<style scoped>\n",
       "    .dataframe tbody tr th:only-of-type {\n",
       "        vertical-align: middle;\n",
       "    }\n",
       "\n",
       "    .dataframe tbody tr th {\n",
       "        vertical-align: top;\n",
       "    }\n",
       "\n",
       "    .dataframe thead th {\n",
       "        text-align: right;\n",
       "    }\n",
       "</style>\n",
       "<table border=\"1\" class=\"dataframe\">\n",
       "  <thead>\n",
       "    <tr style=\"text-align: right;\">\n",
       "      <th></th>\n",
       "      <th>Provinsi</th>\n",
       "      <th>2018</th>\n",
       "      <th>2019</th>\n",
       "      <th>2020</th>\n",
       "      <th>2021</th>\n",
       "      <th>2022</th>\n",
       "      <th>2023</th>\n",
       "    </tr>\n",
       "  </thead>\n",
       "  <tbody>\n",
       "    <tr>\n",
       "      <th>0</th>\n",
       "      <td>Aceh</td>\n",
       "      <td>832000.0</td>\n",
       "      <td>810000.0</td>\n",
       "      <td>815000.0</td>\n",
       "      <td>834000.0</td>\n",
       "      <td>807000.0</td>\n",
       "      <td>807000.0</td>\n",
       "    </tr>\n",
       "    <tr>\n",
       "      <th>1</th>\n",
       "      <td>Sumatera Utara</td>\n",
       "      <td>1292000.0</td>\n",
       "      <td>1261000.0</td>\n",
       "      <td>1283000.0</td>\n",
       "      <td>1344000.0</td>\n",
       "      <td>1268000.0</td>\n",
       "      <td>1240000.0</td>\n",
       "    </tr>\n",
       "    <tr>\n",
       "      <th>2</th>\n",
       "      <td>Sumatera Barat</td>\n",
       "      <td>353000.0</td>\n",
       "      <td>343000.0</td>\n",
       "      <td>344000.0</td>\n",
       "      <td>371000.0</td>\n",
       "      <td>335000.0</td>\n",
       "      <td>340000.0</td>\n",
       "    </tr>\n",
       "    <tr>\n",
       "      <th>3</th>\n",
       "      <td>Riau</td>\n",
       "      <td>494000.0</td>\n",
       "      <td>484000.0</td>\n",
       "      <td>483000.0</td>\n",
       "      <td>501000.0</td>\n",
       "      <td>485000.0</td>\n",
       "      <td>486000.0</td>\n",
       "    </tr>\n",
       "    <tr>\n",
       "      <th>4</th>\n",
       "      <td>Jambi</td>\n",
       "      <td>281000.0</td>\n",
       "      <td>273000.0</td>\n",
       "      <td>278000.0</td>\n",
       "      <td>294000.0</td>\n",
       "      <td>279000.0</td>\n",
       "      <td>281000.0</td>\n",
       "    </tr>\n",
       "  </tbody>\n",
       "</table>\n",
       "</div>"
      ],
      "text/plain": [
       "         Provinsi       2018       2019       2020       2021       2022  \\\n",
       "0            Aceh   832000.0   810000.0   815000.0   834000.0   807000.0   \n",
       "1  Sumatera Utara  1292000.0  1261000.0  1283000.0  1344000.0  1268000.0   \n",
       "2  Sumatera Barat   353000.0   343000.0   344000.0   371000.0   335000.0   \n",
       "3            Riau   494000.0   484000.0   483000.0   501000.0   485000.0   \n",
       "4           Jambi   281000.0   273000.0   278000.0   294000.0   279000.0   \n",
       "\n",
       "        2023  \n",
       "0   807000.0  \n",
       "1  1240000.0  \n",
       "2   340000.0  \n",
       "3   486000.0  \n",
       "4   281000.0  "
      ]
     },
     "execution_count": 16,
     "metadata": {},
     "output_type": "execute_result"
    }
   ],
   "source": [
    "# Multiply columns and Convert Data Type\n",
    "columns_to_multiply = ['2018', '2019', '2020', '2021', '2022', '2023']\n",
    "multiply_result = miskinraw_df.loc[:, columns_to_multiply] * 1000\n",
    "multiply_result = multiply_result.astype(float)\n",
    "\n",
    "# Columns to Keep\n",
    "columns_to_keep = ['Provinsi']\n",
    "keep_result = miskinraw_df.loc[:, columns_to_keep]\n",
    "\n",
    "# Concatenate the multiplied columns with the non-multiplied columns\n",
    "miskinupdate_df = pd.concat([keep_result, multiply_result], axis=1)\n",
    "\n",
    "miskinupdate_df.head()\n"
   ]
  },
  {
   "cell_type": "code",
   "execution_count": 17,
   "metadata": {},
   "outputs": [
    {
     "name": "stdout",
     "output_type": "stream",
     "text": [
      "<class 'pandas.core.frame.DataFrame'>\n",
      "RangeIndex: 35 entries, 0 to 34\n",
      "Data columns (total 7 columns):\n",
      " #   Column    Non-Null Count  Dtype  \n",
      "---  ------    --------------  -----  \n",
      " 0   Provinsi  35 non-null     object \n",
      " 1   2018      35 non-null     float64\n",
      " 2   2019      35 non-null     float64\n",
      " 3   2020      35 non-null     float64\n",
      " 4   2021      35 non-null     float64\n",
      " 5   2022      35 non-null     float64\n",
      " 6   2023      35 non-null     float64\n",
      "dtypes: float64(6), object(1)\n",
      "memory usage: 2.0+ KB\n"
     ]
    }
   ],
   "source": [
    "miskinupdate_df.info()"
   ]
  },
  {
   "cell_type": "code",
   "execution_count": 18,
   "metadata": {},
   "outputs": [
    {
     "name": "stdout",
     "output_type": "stream",
     "text": [
      "                     Provinsi        2018        2019        2020        2021  \\\n",
      "0                        Aceh    832000.0    810000.0    815000.0    834000.0   \n",
      "1              Sumatera Utara   1292000.0   1261000.0   1283000.0   1344000.0   \n",
      "2              Sumatera Barat    353000.0    343000.0    344000.0    371000.0   \n",
      "3                        Riau    494000.0    484000.0    483000.0    501000.0   \n",
      "4                       Jambi    281000.0    273000.0    278000.0    294000.0   \n",
      "5            Sumatera Selatan   1076000.0   1067000.0   1082000.0   1114000.0   \n",
      "6                    Bengkulu    304000.0    298000.0    303000.0    306000.0   \n",
      "7                     Lampung   1092000.0   1041000.0   1049000.0   1084000.0   \n",
      "8   Kepulauan Bangka Belitung     70000.0     67000.0     68000.0     73000.0   \n",
      "9              Kepulauan Riau    125000.0    128000.0    132000.0    144000.0   \n",
      "10                DKI Jakarta    372000.0    362000.0    481000.0    502000.0   \n",
      "11                 Jawa Barat   3539000.0   3376000.0   3920000.0   4195000.0   \n",
      "12                Jawa Tengah   3867000.0   3679000.0   3981000.0   4110000.0   \n",
      "13              DI Yogyakarta    450000.0    441000.0    476000.0    506000.0   \n",
      "14                 Jawa Timur   4292000.0   4056000.0   4419000.0   4573000.0   \n",
      "15                     Banten    669000.0    641000.0    776000.0    867000.0   \n",
      "16                       Bali    168000.0    157000.0    165000.0    202000.0   \n",
      "17        Nusa Tenggara Barat    736000.0    706000.0    714000.0    747000.0   \n",
      "18        Nusa Tenggara Timur   1134000.0   1129000.0   1154000.0   1169000.0   \n",
      "19           Kalimantan Barat    370000.0    370000.0    367000.0    368000.0   \n",
      "20          Kalimantan Tengah    136000.0    131000.0    133000.0    140000.0   \n",
      "21         Kalimantan Selatan    195000.0    190000.0    188000.0    208000.0   \n",
      "22           Kalimantan Timur    222000.0    221000.0    230000.0    242000.0   \n",
      "23           Kalimantan Utara     50000.0     49000.0     52000.0     53000.0   \n",
      "24             Sulawesi Utara    189000.0    189000.0    192000.0    196000.0   \n",
      "25            Sulawesi Tengah    413000.0    404000.0    399000.0    404000.0   \n",
      "26           Sulawesi Selatan    780000.0    760000.0    777000.0    785000.0   \n",
      "27          Sulawesi Tenggara    302000.0    300000.0    302000.0    319000.0   \n",
      "28                  Gorontalo    188000.0    185000.0    185000.0    186000.0   \n",
      "29             Sulawesi Barat    153000.0    152000.0    152000.0    157000.0   \n",
      "30                     Maluku    318000.0    320000.0    318000.0    322000.0   \n",
      "31               Maluku Utara     82000.0     87000.0     86000.0     87000.0   \n",
      "32                Papua Barat    214000.0    208000.0    209000.0    219000.0   \n",
      "33                      Papua    915000.0    901000.0    911000.0    920000.0   \n",
      "34                  Indonesia  25675000.0  24786000.0  26424000.0  27543000.0   \n",
      "\n",
      "          2022        2023  \n",
      "0     807000.0    807000.0  \n",
      "1    1268000.0   1240000.0  \n",
      "2     335000.0    340000.0  \n",
      "3     485000.0    486000.0  \n",
      "4     279000.0    281000.0  \n",
      "5    1045000.0   1046000.0  \n",
      "6     297000.0    288000.0  \n",
      "7    1002000.0    971000.0  \n",
      "8      67000.0     69000.0  \n",
      "9     152000.0    143000.0  \n",
      "10    502000.0    478000.0  \n",
      "11   4071000.0   3889000.0  \n",
      "12   3831000.0   3792000.0  \n",
      "13    455000.0    448000.0  \n",
      "14   4181000.0   4189000.0  \n",
      "15    814000.0    826000.0  \n",
      "16    206000.0    194000.0  \n",
      "17    732000.0    751000.0  \n",
      "18   1132000.0   1141000.0  \n",
      "19    350000.0    353000.0  \n",
      "20    145000.0    142000.0  \n",
      "21    196000.0    189000.0  \n",
      "22    236000.0    231000.0  \n",
      "23     49000.0     48000.0  \n",
      "24    185000.0    189000.0  \n",
      "25    388000.0    396000.0  \n",
      "26    777000.0    789000.0  \n",
      "27    310000.0    322000.0  \n",
      "28    185000.0    184000.0  \n",
      "29    166000.0    164000.0  \n",
      "30    291000.0    302000.0  \n",
      "31     80000.0     84000.0  \n",
      "32    219000.0    215000.0  \n",
      "33    922000.0    915000.0  \n",
      "34  26161000.0  25899000.0  \n"
     ]
    }
   ],
   "source": [
    "miskinupdate_df['Provinsi'] = miskinupdate_df['Provinsi'].str.replace('Kep.', 'Kepulauan')\n",
    "print(miskinupdate_df)"
   ]
  },
  {
   "cell_type": "code",
   "execution_count": 19,
   "metadata": {},
   "outputs": [
    {
     "name": "stdout",
     "output_type": "stream",
     "text": [
      "                     Provinsi         2020         2021         2022\n",
      "0                        Aceh    5274900.0    5333700.0    5407900.0\n",
      "1              Sumatera Utara   14799400.0   14936200.0   15115200.0\n",
      "2              Sumatera Barat    5534500.0    5580200.0    5640600.0\n",
      "3                        Riau    6394100.0    6493600.0    6614400.0\n",
      "4              Kepulauan Riau    2064600.0    2118200.0    2179800.0\n",
      "5                       Jambi    3548200.0    3585100.0    3631100.0\n",
      "6            Sumatera Selatan    8467400.0    8550900.0    8657000.0\n",
      "7   Kepulauan Bangka Belitung    1455700.0    1473200.0    1494600.0\n",
      "8                    Bengkulu    2010700.0    2032900.0    2060100.0\n",
      "9                     Lampung    9007800.0    9081800.0    9176600.0\n",
      "10                DKI Jakarta   10562100.0   10609700.0   10680000.0\n",
      "11                 Jawa Barat   48274200.0   48782400.0   49405800.0\n",
      "12                     Banten   11904600.0   12061500.0   12252000.0\n",
      "13                Jawa Tengah   36516000.0   36742500.0   37032400.0\n",
      "14              DI Yogyakarta    3668700.0    3712900.0    3761900.0\n",
      "15                 Jawa Timur   40665700.0   40878800.0   41150000.0\n",
      "16           Kalimantan Barat    5414400.0    5470800.0    5541400.0\n",
      "17          Kalimantan Tengah    2670000.0    2702200.0    2741100.0\n",
      "18         Kalimantan Selatan    4073600.0    4122600.0    4182100.0\n",
      "19           Kalimantan Timur    3766000.0    3808200.0    3859800.0\n",
      "20           Kalimantan Utara     701800.0     713600.0     727800.0\n",
      "21             Sulawesi Utara    2621900.0    2638600.0    2659500.0\n",
      "22                  Gorontalo    1171700.0    1181000.0    1192700.0\n",
      "23            Sulawesi Tengah    2985700.0    3021900.0    3066100.0\n",
      "24           Sulawesi Selatan    9073500.0    9139500.0    9225800.0\n",
      "25             Sulawesi Barat    1419200.0    1436800.0    1458600.0\n",
      "26          Sulawesi Tenggara    2624900.0    2659200.0    2701700.0\n",
      "27                       Bali    4317400.0    4362700.0    4415100.0\n",
      "28        Nusa Tenggara Barat    5320100.0    5390000.0    5473700.0\n",
      "29        Nusa Tenggara Timur    5325600.0    5387700.0    5466300.0\n",
      "30                     Maluku    1848900.0    1862600.0    1881700.0\n",
      "31               Maluku Utara    1282900.0    1299200.0    1319300.0\n",
      "32                Papua Barat    1134100.0    1156800.0    1183300.0\n",
      "33                      Papua    4303700.0    4355500.0    4418600.0\n",
      "34                  Indonesia  270203900.0  272682500.0  275773800.0\n"
     ]
    }
   ],
   "source": [
    "pendudukupdate_df['Provinsi'] = pendudukupdate_df['Provinsi'].str.replace('Kep.', 'Kepulauan')\n",
    "print(pendudukupdate_df)"
   ]
  },
  {
   "cell_type": "markdown",
   "metadata": {},
   "source": [
    "---\n",
    "---\n",
    "## **EXPLORATORY DATA ANALYSIS**\n",
    "---\n",
    "---"
   ]
  },
  {
   "cell_type": "markdown",
   "metadata": {},
   "source": [
    "### Percentage Poor People Each Province"
   ]
  },
  {
   "cell_type": "code",
   "execution_count": 20,
   "metadata": {},
   "outputs": [
    {
     "name": "stdout",
     "output_type": "stream",
     "text": [
      "                     Provinsi  Poverty Rate\n",
      "33                      Papua     20.866338\n",
      "29        Nusa Tenggara Timur     20.708706\n",
      "32                Papua Barat     18.507564\n",
      "22                  Gorontalo     15.511025\n",
      "30                     Maluku     15.464739\n",
      "0                        Aceh     14.922613\n",
      "8                    Bengkulu     14.416776\n",
      "28        Nusa Tenggara Barat     13.373038\n",
      "23            Sulawesi Tengah     12.654512\n",
      "14              DI Yogyakarta     12.094952\n",
      "6            Sumatera Selatan     12.071156\n",
      "26          Sulawesi Tenggara     11.474257\n",
      "25             Sulawesi Barat     11.380776\n",
      "9                     Lampung     10.919077\n",
      "13                Jawa Tengah     10.344995\n",
      "15                 Jawa Timur     10.160389\n",
      "34                  Indonesia      9.486398\n",
      "24           Sulawesi Selatan      8.422034\n",
      "1              Sumatera Utara      8.388907\n",
      "11                 Jawa Barat      8.239923\n",
      "5                       Jambi      7.683622\n",
      "3                        Riau      7.332487\n",
      "4              Kepulauan Riau      6.973117\n",
      "21             Sulawesi Utara      6.956195\n",
      "20           Kalimantan Utara      6.732619\n",
      "12                     Banten      6.643813\n",
      "16           Kalimantan Barat      6.316093\n",
      "19           Kalimantan Timur      6.114306\n",
      "31               Maluku Utara      6.063822\n",
      "2              Sumatera Barat      5.939084\n",
      "17          Kalimantan Tengah      5.289847\n",
      "10                DKI Jakarta      4.700375\n",
      "18         Kalimantan Selatan      4.686641\n",
      "27                       Bali      4.665806\n",
      "7   Kepulauan Bangka Belitung      4.482805\n"
     ]
    }
   ],
   "source": [
    "# Merge on 'Provinsi' column\n",
    "merged_df = pd.merge(pendudukupdate_df, miskinupdate_df, on='Provinsi')\n",
    "\n",
    "# Create new column 'Poverty Rate'\n",
    "merged_df['Poverty Rate'] = (merged_df['2022_y'] / merged_df['2022_x']) * 100\n",
    "\n",
    "# New DataFrame with 'Provinsi' and 'Poverty Rate'\n",
    "povertyrate_df = merged_df[['Provinsi', 'Poverty Rate']]\n",
    "\n",
    "print(povertyrate_df.sort_values(by='Poverty Rate', ascending=False))"
   ]
  },
  {
   "cell_type": "markdown",
   "metadata": {},
   "source": [
    "---\n",
    "---\n",
    "## **RESULT**\n",
    "---\n",
    "---"
   ]
  },
  {
   "cell_type": "code",
   "execution_count": 21,
   "metadata": {},
   "outputs": [
    {
     "name": "stdout",
     "output_type": "stream",
     "text": [
      "Succesfull Export The Dataframe\n"
     ]
    }
   ],
   "source": [
    "# Export Poverty Rate the DataFrame to CSV\n",
    "povertyrate_df.to_csv(\"result/povertyrate.csv\", index=False)\n",
    "print(\"Succesfull Export The Dataframe\")"
   ]
  }
 ],
 "metadata": {
  "kernelspec": {
   "display_name": "Python 3",
   "language": "python",
   "name": "python3"
  },
  "language_info": {
   "codemirror_mode": {
    "name": "ipython",
    "version": 3
   },
   "file_extension": ".py",
   "mimetype": "text/x-python",
   "name": "python",
   "nbconvert_exporter": "python",
   "pygments_lexer": "ipython3",
   "version": "3.12.2"
  }
 },
 "nbformat": 4,
 "nbformat_minor": 2
}
