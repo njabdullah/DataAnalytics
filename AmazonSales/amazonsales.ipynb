{
 "cells": [
  {
   "cell_type": "markdown",
   "metadata": {},
   "source": [
    "# **AMAZON SALES ANALYSIS**"
   ]
  },
  {
   "cell_type": "markdown",
   "metadata": {},
   "source": [
    "---\n",
    "---\n",
    "# **Import Libraries**\n",
    "---\n",
    "---"
   ]
  },
  {
   "cell_type": "code",
   "execution_count": null,
   "metadata": {},
   "outputs": [],
   "source": []
  },
  {
   "cell_type": "markdown",
   "metadata": {},
   "source": [
    "---\n",
    "---\n",
    "# **Data Set**\n",
    "---\n",
    "---"
   ]
  },
  {
   "cell_type": "markdown",
   "metadata": {},
   "source": [
    "## **Data Gathering**"
   ]
  },
  {
   "cell_type": "code",
   "execution_count": 1,
   "metadata": {},
   "outputs": [
    {
     "name": "stderr",
     "output_type": "stream",
     "text": [
      "C:\\Users\\Abdullah NJ\\AppData\\Local\\Temp\\ipykernel_19200\\2890477044.py:3: DtypeWarning: Columns (23) have mixed types. Specify dtype option on import or set low_memory=False.\n",
      "  salesraw_df = pd.read_csv(\"Data/Amazon Sale Report.csv\", sep=\",\")\n"
     ]
    },
    {
     "data": {
      "application/vnd.microsoft.datawrangler.viewer.v0+json": {
       "columns": [
        {
         "name": "index",
         "rawType": "int64",
         "type": "integer"
        },
        {
         "name": "index",
         "rawType": "int64",
         "type": "integer"
        },
        {
         "name": "Order ID",
         "rawType": "object",
         "type": "string"
        },
        {
         "name": "Date",
         "rawType": "object",
         "type": "string"
        },
        {
         "name": "Status",
         "rawType": "object",
         "type": "string"
        },
        {
         "name": "Fulfilment",
         "rawType": "object",
         "type": "string"
        },
        {
         "name": "Sales Channel ",
         "rawType": "object",
         "type": "string"
        },
        {
         "name": "ship-service-level",
         "rawType": "object",
         "type": "string"
        },
        {
         "name": "Style",
         "rawType": "object",
         "type": "string"
        },
        {
         "name": "SKU",
         "rawType": "object",
         "type": "string"
        },
        {
         "name": "Category",
         "rawType": "object",
         "type": "string"
        },
        {
         "name": "Size",
         "rawType": "object",
         "type": "string"
        },
        {
         "name": "ASIN",
         "rawType": "object",
         "type": "string"
        },
        {
         "name": "Courier Status",
         "rawType": "object",
         "type": "unknown"
        },
        {
         "name": "Qty",
         "rawType": "int64",
         "type": "integer"
        },
        {
         "name": "currency",
         "rawType": "object",
         "type": "string"
        },
        {
         "name": "Amount",
         "rawType": "float64",
         "type": "float"
        },
        {
         "name": "ship-city",
         "rawType": "object",
         "type": "string"
        },
        {
         "name": "ship-state",
         "rawType": "object",
         "type": "string"
        },
        {
         "name": "ship-postal-code",
         "rawType": "float64",
         "type": "float"
        },
        {
         "name": "ship-country",
         "rawType": "object",
         "type": "string"
        },
        {
         "name": "promotion-ids",
         "rawType": "object",
         "type": "unknown"
        },
        {
         "name": "B2B",
         "rawType": "bool",
         "type": "boolean"
        },
        {
         "name": "fulfilled-by",
         "rawType": "object",
         "type": "unknown"
        },
        {
         "name": "Unnamed: 22",
         "rawType": "object",
         "type": "unknown"
        }
       ],
       "conversionMethod": "pd.DataFrame",
       "ref": "f75a82f3-eb79-42a3-a731-6d50d2e5453b",
       "rows": [
        [
         "0",
         "0",
         "405-8078784-5731545",
         "04-30-22",
         "Cancelled",
         "Merchant",
         "Amazon.in",
         "Standard",
         "SET389",
         "SET389-KR-NP-S",
         "Set",
         "S",
         "B09KXVBD7Z",
         null,
         "0",
         "INR",
         "647.62",
         "MUMBAI",
         "MAHARASHTRA",
         "400081.0",
         "IN",
         null,
         "False",
         "Easy Ship",
         null
        ],
        [
         "1",
         "1",
         "171-9198151-1101146",
         "04-30-22",
         "Shipped - Delivered to Buyer",
         "Merchant",
         "Amazon.in",
         "Standard",
         "JNE3781",
         "JNE3781-KR-XXXL",
         "kurta",
         "3XL",
         "B09K3WFS32",
         "Shipped",
         "1",
         "INR",
         "406.0",
         "BENGALURU",
         "KARNATAKA",
         "560085.0",
         "IN",
         "Amazon PLCC Free-Financing Universal Merchant AAT-WNKTBO3K27EJC,Amazon PLCC Free-Financing Universal Merchant AAT-QX3UCCJESKPA2,Amazon PLCC Free-Financing Universal Merchant AAT-5QQ7BIYYQEDN2,Amazon PLCC Free-Financing Universal Merchant AAT-DSJ2QRXXWXVMQ,Amazon PLCC Free-Financing Universal Merchant AAT-CXJHMC2YJUK76,Amazon PLCC Free-Financing Universal Merchant AAT-CC4FAVTYR4X7C,Amazon PLCC Free-Financing Universal Merchant AAT-XXRCW6NZEPZI4,Amazon PLCC Free-Financing Universal Merchant AAT-CXNSLNBROFDW4,Amazon PLCC Free-Financing Universal Merchant AAT-R7GXNZWISTRFA,Amazon PLCC Free-Financing Universal Merchant AAT-WSJLDN3X7KEMO,Amazon PLCC Free-Financing Universal Merchant AAT-VL6FGQVGQVXUS,Amazon PLCC Free-Financing Universal Merchant AAT-EOKPWFWYW7Y6I,Amazon PLCC Free-Financing Universal Merchant AAT-ZYL5UPUNW6T62,Amazon PLCC Free-Financing Universal Merchant AAT-XVPICCHRWDCAI,Amazon PLCC Free-Financing Universal Merchant AAT-ETXQ3XXWMRXBG,Amazon PLCC Free-Financing Universal Merchant AAT-7X3XCTYG64VBE,Amazon PLCC Free-Financing Universal Merchant AAT-7CHGD3WTS3MHM,Amazon PLCC Free-Financing Universal Merchant AAT-26ZDKNME27X42,Amazon PLCC Free-Financing Universal Merchant AAT-4ZF5KN6E4LJK4,Amazon PLCC Free-Financing Universal Merchant AAT-7RCXIKUAX7DDY,Amazon PLCC Free-Financing Universal Merchant AAT-BRSZZ45H6MHAO,Amazon PLCC Free-Financing Universal Merchant AAT-MKLXOOZWQL7GO,Amazon PLCC Free-Financing Universal Merchant AAT-CB7UNXEXGIJTC,Amazon PLCC Free-Financing Universal Merchant #MP-gzasho-1593152694811,Amazon PLCC Free-Financing Universal Merchant AAT-WLBA4GZ52EAH4",
         "False",
         "Easy Ship",
         null
        ],
        [
         "2",
         "2",
         "404-0687676-7273146",
         "04-30-22",
         "Shipped",
         "Amazon",
         "Amazon.in",
         "Expedited",
         "JNE3371",
         "JNE3371-KR-XL",
         "kurta",
         "XL",
         "B07WV4JV4D",
         "Shipped",
         "1",
         "INR",
         "329.0",
         "NAVI MUMBAI",
         "MAHARASHTRA",
         "410210.0",
         "IN",
         "IN Core Free Shipping 2015/04/08 23-48-5-108",
         "True",
         null,
         null
        ],
        [
         "3",
         "3",
         "403-9615377-8133951",
         "04-30-22",
         "Cancelled",
         "Merchant",
         "Amazon.in",
         "Standard",
         "J0341",
         "J0341-DR-L",
         "Western Dress",
         "L",
         "B099NRCT7B",
         null,
         "0",
         "INR",
         "753.33",
         "PUDUCHERRY",
         "PUDUCHERRY",
         "605008.0",
         "IN",
         null,
         "False",
         "Easy Ship",
         null
        ],
        [
         "4",
         "4",
         "407-1069790-7240320",
         "04-30-22",
         "Shipped",
         "Amazon",
         "Amazon.in",
         "Expedited",
         "JNE3671",
         "JNE3671-TU-XXXL",
         "Top",
         "3XL",
         "B098714BZP",
         "Shipped",
         "1",
         "INR",
         "574.0",
         "CHENNAI",
         "TAMIL NADU",
         "600073.0",
         "IN",
         null,
         "False",
         null,
         null
        ]
       ],
       "shape": {
        "columns": 24,
        "rows": 5
       }
      },
      "text/html": [
       "<div>\n",
       "<style scoped>\n",
       "    .dataframe tbody tr th:only-of-type {\n",
       "        vertical-align: middle;\n",
       "    }\n",
       "\n",
       "    .dataframe tbody tr th {\n",
       "        vertical-align: top;\n",
       "    }\n",
       "\n",
       "    .dataframe thead th {\n",
       "        text-align: right;\n",
       "    }\n",
       "</style>\n",
       "<table border=\"1\" class=\"dataframe\">\n",
       "  <thead>\n",
       "    <tr style=\"text-align: right;\">\n",
       "      <th></th>\n",
       "      <th>index</th>\n",
       "      <th>Order ID</th>\n",
       "      <th>Date</th>\n",
       "      <th>Status</th>\n",
       "      <th>Fulfilment</th>\n",
       "      <th>Sales Channel</th>\n",
       "      <th>ship-service-level</th>\n",
       "      <th>Style</th>\n",
       "      <th>SKU</th>\n",
       "      <th>Category</th>\n",
       "      <th>...</th>\n",
       "      <th>currency</th>\n",
       "      <th>Amount</th>\n",
       "      <th>ship-city</th>\n",
       "      <th>ship-state</th>\n",
       "      <th>ship-postal-code</th>\n",
       "      <th>ship-country</th>\n",
       "      <th>promotion-ids</th>\n",
       "      <th>B2B</th>\n",
       "      <th>fulfilled-by</th>\n",
       "      <th>Unnamed: 22</th>\n",
       "    </tr>\n",
       "  </thead>\n",
       "  <tbody>\n",
       "    <tr>\n",
       "      <th>0</th>\n",
       "      <td>0</td>\n",
       "      <td>405-8078784-5731545</td>\n",
       "      <td>04-30-22</td>\n",
       "      <td>Cancelled</td>\n",
       "      <td>Merchant</td>\n",
       "      <td>Amazon.in</td>\n",
       "      <td>Standard</td>\n",
       "      <td>SET389</td>\n",
       "      <td>SET389-KR-NP-S</td>\n",
       "      <td>Set</td>\n",
       "      <td>...</td>\n",
       "      <td>INR</td>\n",
       "      <td>647.62</td>\n",
       "      <td>MUMBAI</td>\n",
       "      <td>MAHARASHTRA</td>\n",
       "      <td>400081.0</td>\n",
       "      <td>IN</td>\n",
       "      <td>NaN</td>\n",
       "      <td>False</td>\n",
       "      <td>Easy Ship</td>\n",
       "      <td>NaN</td>\n",
       "    </tr>\n",
       "    <tr>\n",
       "      <th>1</th>\n",
       "      <td>1</td>\n",
       "      <td>171-9198151-1101146</td>\n",
       "      <td>04-30-22</td>\n",
       "      <td>Shipped - Delivered to Buyer</td>\n",
       "      <td>Merchant</td>\n",
       "      <td>Amazon.in</td>\n",
       "      <td>Standard</td>\n",
       "      <td>JNE3781</td>\n",
       "      <td>JNE3781-KR-XXXL</td>\n",
       "      <td>kurta</td>\n",
       "      <td>...</td>\n",
       "      <td>INR</td>\n",
       "      <td>406.00</td>\n",
       "      <td>BENGALURU</td>\n",
       "      <td>KARNATAKA</td>\n",
       "      <td>560085.0</td>\n",
       "      <td>IN</td>\n",
       "      <td>Amazon PLCC Free-Financing Universal Merchant ...</td>\n",
       "      <td>False</td>\n",
       "      <td>Easy Ship</td>\n",
       "      <td>NaN</td>\n",
       "    </tr>\n",
       "    <tr>\n",
       "      <th>2</th>\n",
       "      <td>2</td>\n",
       "      <td>404-0687676-7273146</td>\n",
       "      <td>04-30-22</td>\n",
       "      <td>Shipped</td>\n",
       "      <td>Amazon</td>\n",
       "      <td>Amazon.in</td>\n",
       "      <td>Expedited</td>\n",
       "      <td>JNE3371</td>\n",
       "      <td>JNE3371-KR-XL</td>\n",
       "      <td>kurta</td>\n",
       "      <td>...</td>\n",
       "      <td>INR</td>\n",
       "      <td>329.00</td>\n",
       "      <td>NAVI MUMBAI</td>\n",
       "      <td>MAHARASHTRA</td>\n",
       "      <td>410210.0</td>\n",
       "      <td>IN</td>\n",
       "      <td>IN Core Free Shipping 2015/04/08 23-48-5-108</td>\n",
       "      <td>True</td>\n",
       "      <td>NaN</td>\n",
       "      <td>NaN</td>\n",
       "    </tr>\n",
       "    <tr>\n",
       "      <th>3</th>\n",
       "      <td>3</td>\n",
       "      <td>403-9615377-8133951</td>\n",
       "      <td>04-30-22</td>\n",
       "      <td>Cancelled</td>\n",
       "      <td>Merchant</td>\n",
       "      <td>Amazon.in</td>\n",
       "      <td>Standard</td>\n",
       "      <td>J0341</td>\n",
       "      <td>J0341-DR-L</td>\n",
       "      <td>Western Dress</td>\n",
       "      <td>...</td>\n",
       "      <td>INR</td>\n",
       "      <td>753.33</td>\n",
       "      <td>PUDUCHERRY</td>\n",
       "      <td>PUDUCHERRY</td>\n",
       "      <td>605008.0</td>\n",
       "      <td>IN</td>\n",
       "      <td>NaN</td>\n",
       "      <td>False</td>\n",
       "      <td>Easy Ship</td>\n",
       "      <td>NaN</td>\n",
       "    </tr>\n",
       "    <tr>\n",
       "      <th>4</th>\n",
       "      <td>4</td>\n",
       "      <td>407-1069790-7240320</td>\n",
       "      <td>04-30-22</td>\n",
       "      <td>Shipped</td>\n",
       "      <td>Amazon</td>\n",
       "      <td>Amazon.in</td>\n",
       "      <td>Expedited</td>\n",
       "      <td>JNE3671</td>\n",
       "      <td>JNE3671-TU-XXXL</td>\n",
       "      <td>Top</td>\n",
       "      <td>...</td>\n",
       "      <td>INR</td>\n",
       "      <td>574.00</td>\n",
       "      <td>CHENNAI</td>\n",
       "      <td>TAMIL NADU</td>\n",
       "      <td>600073.0</td>\n",
       "      <td>IN</td>\n",
       "      <td>NaN</td>\n",
       "      <td>False</td>\n",
       "      <td>NaN</td>\n",
       "      <td>NaN</td>\n",
       "    </tr>\n",
       "  </tbody>\n",
       "</table>\n",
       "<p>5 rows × 24 columns</p>\n",
       "</div>"
      ],
      "text/plain": [
       "   index             Order ID      Date                        Status  \\\n",
       "0      0  405-8078784-5731545  04-30-22                     Cancelled   \n",
       "1      1  171-9198151-1101146  04-30-22  Shipped - Delivered to Buyer   \n",
       "2      2  404-0687676-7273146  04-30-22                       Shipped   \n",
       "3      3  403-9615377-8133951  04-30-22                     Cancelled   \n",
       "4      4  407-1069790-7240320  04-30-22                       Shipped   \n",
       "\n",
       "  Fulfilment Sales Channel  ship-service-level    Style              SKU  \\\n",
       "0   Merchant      Amazon.in           Standard   SET389   SET389-KR-NP-S   \n",
       "1   Merchant      Amazon.in           Standard  JNE3781  JNE3781-KR-XXXL   \n",
       "2     Amazon      Amazon.in          Expedited  JNE3371    JNE3371-KR-XL   \n",
       "3   Merchant      Amazon.in           Standard    J0341       J0341-DR-L   \n",
       "4     Amazon      Amazon.in          Expedited  JNE3671  JNE3671-TU-XXXL   \n",
       "\n",
       "        Category  ... currency  Amount    ship-city   ship-state  \\\n",
       "0            Set  ...      INR  647.62       MUMBAI  MAHARASHTRA   \n",
       "1          kurta  ...      INR  406.00    BENGALURU    KARNATAKA   \n",
       "2          kurta  ...      INR  329.00  NAVI MUMBAI  MAHARASHTRA   \n",
       "3  Western Dress  ...      INR  753.33   PUDUCHERRY   PUDUCHERRY   \n",
       "4            Top  ...      INR  574.00      CHENNAI   TAMIL NADU   \n",
       "\n",
       "  ship-postal-code  ship-country  \\\n",
       "0         400081.0            IN   \n",
       "1         560085.0            IN   \n",
       "2         410210.0            IN   \n",
       "3         605008.0            IN   \n",
       "4         600073.0            IN   \n",
       "\n",
       "                                       promotion-ids    B2B  fulfilled-by  \\\n",
       "0                                                NaN  False     Easy Ship   \n",
       "1  Amazon PLCC Free-Financing Universal Merchant ...  False     Easy Ship   \n",
       "2       IN Core Free Shipping 2015/04/08 23-48-5-108   True           NaN   \n",
       "3                                                NaN  False     Easy Ship   \n",
       "4                                                NaN  False           NaN   \n",
       "\n",
       "  Unnamed: 22  \n",
       "0         NaN  \n",
       "1         NaN  \n",
       "2         NaN  \n",
       "3         NaN  \n",
       "4         NaN  \n",
       "\n",
       "[5 rows x 24 columns]"
      ]
     },
     "execution_count": 1,
     "metadata": {},
     "output_type": "execute_result"
    }
   ],
   "source": [
    "import pandas as pd\n",
    "\n",
    "salesraw_df = pd.read_csv(\"Data/Amazon Sale Report.csv\", sep=\",\")\n",
    "salesraw_df.head()"
   ]
  },
  {
   "cell_type": "markdown",
   "metadata": {},
   "source": [
    "## **Data Assessing**"
   ]
  },
  {
   "cell_type": "code",
   "execution_count": 2,
   "metadata": {},
   "outputs": [
    {
     "data": {
      "text/plain": [
       "(128975, 24)"
      ]
     },
     "execution_count": 2,
     "metadata": {},
     "output_type": "execute_result"
    }
   ],
   "source": [
    "salesraw_df.shape"
   ]
  },
  {
   "cell_type": "code",
   "execution_count": 3,
   "metadata": {},
   "outputs": [
    {
     "name": "stdout",
     "output_type": "stream",
     "text": [
      "<class 'pandas.core.frame.DataFrame'>\n",
      "RangeIndex: 128975 entries, 0 to 128974\n",
      "Data columns (total 24 columns):\n",
      " #   Column              Non-Null Count   Dtype  \n",
      "---  ------              --------------   -----  \n",
      " 0   index               128975 non-null  int64  \n",
      " 1   Order ID            128975 non-null  object \n",
      " 2   Date                128975 non-null  object \n",
      " 3   Status              128975 non-null  object \n",
      " 4   Fulfilment          128975 non-null  object \n",
      " 5   Sales Channel       128975 non-null  object \n",
      " 6   ship-service-level  128975 non-null  object \n",
      " 7   Style               128975 non-null  object \n",
      " 8   SKU                 128975 non-null  object \n",
      " 9   Category            128975 non-null  object \n",
      " 10  Size                128975 non-null  object \n",
      " 11  ASIN                128975 non-null  object \n",
      " 12  Courier Status      122103 non-null  object \n",
      " 13  Qty                 128975 non-null  int64  \n",
      " 14  currency            121180 non-null  object \n",
      " 15  Amount              121180 non-null  float64\n",
      " 16  ship-city           128942 non-null  object \n",
      " 17  ship-state          128942 non-null  object \n",
      " 18  ship-postal-code    128942 non-null  float64\n",
      " 19  ship-country        128942 non-null  object \n",
      " 20  promotion-ids       79822 non-null   object \n",
      " 21  B2B                 128975 non-null  bool   \n",
      " 22  fulfilled-by        39277 non-null   object \n",
      " 23  Unnamed: 22         79925 non-null   object \n",
      "dtypes: bool(1), float64(2), int64(2), object(19)\n",
      "memory usage: 22.8+ MB\n"
     ]
    }
   ],
   "source": [
    "salesraw_df.info(any)"
   ]
  },
  {
   "cell_type": "markdown",
   "metadata": {},
   "source": [
    "we find some columns that have wrong data type, such as Date, ship-postal-code"
   ]
  },
  {
   "cell_type": "code",
   "execution_count": 4,
   "metadata": {},
   "outputs": [
    {
     "data": {
      "application/vnd.microsoft.datawrangler.viewer.v0+json": {
       "columns": [
        {
         "name": "index",
         "rawType": "object",
         "type": "string"
        },
        {
         "name": "index",
         "rawType": "float64",
         "type": "float"
        },
        {
         "name": "Qty",
         "rawType": "float64",
         "type": "float"
        },
        {
         "name": "Amount",
         "rawType": "float64",
         "type": "float"
        },
        {
         "name": "ship-postal-code",
         "rawType": "float64",
         "type": "float"
        }
       ],
       "conversionMethod": "pd.DataFrame",
       "ref": "0960d795-a5af-4b31-82fd-54e15ac50594",
       "rows": [
        [
         "count",
         "128975.0",
         "128975.0",
         "121180.0",
         "128942.0"
        ],
        [
         "mean",
         "64487.0",
         "0.9044310912967629",
         "648.5614647631621",
         "463966.2365094384"
        ],
        [
         "std",
         "37232.019821653514",
         "0.3133535856501447",
         "281.2116872291525",
         "191476.764941354"
        ],
        [
         "min",
         "0.0",
         "0.0",
         "0.0",
         "110001.0"
        ],
        [
         "25%",
         "32243.5",
         "1.0",
         "449.0",
         "382421.0"
        ],
        [
         "50%",
         "64487.0",
         "1.0",
         "605.0",
         "500033.0"
        ],
        [
         "75%",
         "96730.5",
         "1.0",
         "788.0",
         "600024.0"
        ],
        [
         "max",
         "128974.0",
         "15.0",
         "5584.0",
         "989898.0"
        ]
       ],
       "shape": {
        "columns": 4,
        "rows": 8
       }
      },
      "text/html": [
       "<div>\n",
       "<style scoped>\n",
       "    .dataframe tbody tr th:only-of-type {\n",
       "        vertical-align: middle;\n",
       "    }\n",
       "\n",
       "    .dataframe tbody tr th {\n",
       "        vertical-align: top;\n",
       "    }\n",
       "\n",
       "    .dataframe thead th {\n",
       "        text-align: right;\n",
       "    }\n",
       "</style>\n",
       "<table border=\"1\" class=\"dataframe\">\n",
       "  <thead>\n",
       "    <tr style=\"text-align: right;\">\n",
       "      <th></th>\n",
       "      <th>index</th>\n",
       "      <th>Qty</th>\n",
       "      <th>Amount</th>\n",
       "      <th>ship-postal-code</th>\n",
       "    </tr>\n",
       "  </thead>\n",
       "  <tbody>\n",
       "    <tr>\n",
       "      <th>count</th>\n",
       "      <td>128975.000000</td>\n",
       "      <td>128975.000000</td>\n",
       "      <td>121180.000000</td>\n",
       "      <td>128942.000000</td>\n",
       "    </tr>\n",
       "    <tr>\n",
       "      <th>mean</th>\n",
       "      <td>64487.000000</td>\n",
       "      <td>0.904431</td>\n",
       "      <td>648.561465</td>\n",
       "      <td>463966.236509</td>\n",
       "    </tr>\n",
       "    <tr>\n",
       "      <th>std</th>\n",
       "      <td>37232.019822</td>\n",
       "      <td>0.313354</td>\n",
       "      <td>281.211687</td>\n",
       "      <td>191476.764941</td>\n",
       "    </tr>\n",
       "    <tr>\n",
       "      <th>min</th>\n",
       "      <td>0.000000</td>\n",
       "      <td>0.000000</td>\n",
       "      <td>0.000000</td>\n",
       "      <td>110001.000000</td>\n",
       "    </tr>\n",
       "    <tr>\n",
       "      <th>25%</th>\n",
       "      <td>32243.500000</td>\n",
       "      <td>1.000000</td>\n",
       "      <td>449.000000</td>\n",
       "      <td>382421.000000</td>\n",
       "    </tr>\n",
       "    <tr>\n",
       "      <th>50%</th>\n",
       "      <td>64487.000000</td>\n",
       "      <td>1.000000</td>\n",
       "      <td>605.000000</td>\n",
       "      <td>500033.000000</td>\n",
       "    </tr>\n",
       "    <tr>\n",
       "      <th>75%</th>\n",
       "      <td>96730.500000</td>\n",
       "      <td>1.000000</td>\n",
       "      <td>788.000000</td>\n",
       "      <td>600024.000000</td>\n",
       "    </tr>\n",
       "    <tr>\n",
       "      <th>max</th>\n",
       "      <td>128974.000000</td>\n",
       "      <td>15.000000</td>\n",
       "      <td>5584.000000</td>\n",
       "      <td>989898.000000</td>\n",
       "    </tr>\n",
       "  </tbody>\n",
       "</table>\n",
       "</div>"
      ],
      "text/plain": [
       "               index            Qty         Amount  ship-postal-code\n",
       "count  128975.000000  128975.000000  121180.000000     128942.000000\n",
       "mean    64487.000000       0.904431     648.561465     463966.236509\n",
       "std     37232.019822       0.313354     281.211687     191476.764941\n",
       "min         0.000000       0.000000       0.000000     110001.000000\n",
       "25%     32243.500000       1.000000     449.000000     382421.000000\n",
       "50%     64487.000000       1.000000     605.000000     500033.000000\n",
       "75%     96730.500000       1.000000     788.000000     600024.000000\n",
       "max    128974.000000      15.000000    5584.000000     989898.000000"
      ]
     },
     "execution_count": 4,
     "metadata": {},
     "output_type": "execute_result"
    }
   ],
   "source": [
    "salesraw_df.describe()"
   ]
  },
  {
   "cell_type": "code",
   "execution_count": 5,
   "metadata": {},
   "outputs": [
    {
     "data": {
      "text/plain": [
       "fulfilled-by          89698\n",
       "promotion-ids         49153\n",
       "Unnamed: 22           49050\n",
       "currency               7795\n",
       "Amount                 7795\n",
       "Courier Status         6872\n",
       "ship-country             33\n",
       "ship-postal-code         33\n",
       "ship-state               33\n",
       "ship-city                33\n",
       "ship-service-level        0\n",
       "Style                     0\n",
       "Date                      0\n",
       "B2B                       0\n",
       "Status                    0\n",
       "Fulfilment                0\n",
       "Sales Channel             0\n",
       "Qty                       0\n",
       "Order ID                  0\n",
       "ASIN                      0\n",
       "Size                      0\n",
       "Category                  0\n",
       "SKU                       0\n",
       "index                     0\n",
       "dtype: int64"
      ]
     },
     "execution_count": 5,
     "metadata": {},
     "output_type": "execute_result"
    }
   ],
   "source": [
    "salesraw_df.isnull().sum().sort_values(ascending=False)"
   ]
  },
  {
   "cell_type": "markdown",
   "metadata": {},
   "source": [
    "we found some columns that contain null, such as fulfilled-by, promotion-ids, Unnamed: 22, currency, Amount, Courier Status, ship-country, ship-postal-code, ship-state, ship-city. We should analyze every column and decide should we fill the null columns with some techniques or just drop it"
   ]
  },
  {
   "cell_type": "code",
   "execution_count": 6,
   "metadata": {},
   "outputs": [
    {
     "name": "stdout",
     "output_type": "stream",
     "text": [
      "Duplicated Rows: 0\n"
     ]
    }
   ],
   "source": [
    "print(\"Duplicated Rows:\", salesraw_df.duplicated().sum())"
   ]
  },
  {
   "cell_type": "code",
   "execution_count": 7,
   "metadata": {},
   "outputs": [
    {
     "data": {
      "text/plain": [
       "Index(['index', 'Order ID', 'Date', 'Status', 'Fulfilment', 'Sales Channel ',\n",
       "       'ship-service-level', 'Style', 'SKU', 'Category', 'Size', 'ASIN',\n",
       "       'Courier Status', 'Qty', 'currency', 'Amount', 'ship-city',\n",
       "       'ship-state', 'ship-postal-code', 'ship-country', 'promotion-ids',\n",
       "       'B2B', 'fulfilled-by', 'Unnamed: 22'],\n",
       "      dtype='object')"
      ]
     },
     "execution_count": 7,
     "metadata": {},
     "output_type": "execute_result"
    }
   ],
   "source": [
    "salesraw_df.columns"
   ]
  },
  {
   "cell_type": "code",
   "execution_count": 8,
   "metadata": {},
   "outputs": [
    {
     "name": "stdout",
     "output_type": "stream",
     "text": [
      "Status\t: ['Cancelled' 'Shipped - Delivered to Buyer' 'Shipped'\n",
      " 'Shipped - Returned to Seller' 'Shipped - Rejected by Buyer'\n",
      " 'Shipped - Lost in Transit' 'Shipped - Out for Delivery'\n",
      " 'Shipped - Returning to Seller' 'Shipped - Picked Up' 'Pending'\n",
      " 'Pending - Waiting for Pick Up' 'Shipped - Damaged' 'Shipping']\n",
      "Fulfilment\t: ['Merchant' 'Amazon']\n",
      "Sales Channel \t: ['Amazon.in' 'Non-Amazon']\n",
      "ship-service-level\t: ['Standard' 'Expedited']\n",
      "Category\t: ['Set' 'kurta' 'Western Dress' 'Top' 'Ethnic Dress' 'Bottom' 'Saree'\n",
      " 'Blouse' 'Dupatta']\n",
      "Size\t: ['S' '3XL' 'XL' 'L' 'XXL' 'XS' '6XL' 'M' '4XL' '5XL' 'Free']\n",
      "currency\t: ['INR' nan]\n",
      "Courier Status\t: [nan 'Shipped' 'Cancelled' 'Unshipped']\n",
      "ship-state\t: ['MAHARASHTRA' 'KARNATAKA' 'PUDUCHERRY' 'TAMIL NADU' 'UTTAR PRADESH'\n",
      " 'CHANDIGARH' 'TELANGANA' 'ANDHRA PRADESH' 'RAJASTHAN' 'DELHI' 'HARYANA'\n",
      " 'ASSAM' 'JHARKHAND' 'CHHATTISGARH' 'ODISHA' 'KERALA' 'MADHYA PRADESH'\n",
      " 'WEST BENGAL' 'NAGALAND' 'Gujarat' 'UTTARAKHAND' 'BIHAR'\n",
      " 'JAMMU & KASHMIR' 'PUNJAB' 'HIMACHAL PRADESH' 'ARUNACHAL PRADESH'\n",
      " 'MANIPUR' 'Goa' 'MEGHALAYA' 'GOA' 'TRIPURA' 'LADAKH' 'DADRA AND NAGAR'\n",
      " 'SIKKIM' 'Delhi' nan 'ANDAMAN & NICOBAR ' 'Punjab' 'Rajshthan' 'Manipur'\n",
      " 'rajasthan' 'Odisha' 'NL' 'Bihar' 'MIZORAM' 'punjab' 'New Delhi'\n",
      " 'Rajasthan' 'Punjab/Mohali/Zirakpur' 'Puducherry' 'delhi' 'RJ'\n",
      " 'Chandigarh' 'orissa' 'LAKSHADWEEP' 'goa' 'PB' 'APO' 'Arunachal Pradesh'\n",
      " 'AR' 'Pondicherry' 'Sikkim' 'Arunachal pradesh' 'Nagaland' 'bihar'\n",
      " 'Mizoram' 'rajsthan' 'Orissa' 'Rajsthan' 'Meghalaya']\n",
      "ship-country\t: ['IN' nan]\n",
      "B2B\t: [False  True]\n",
      "fulfilled-by\t: ['Easy Ship' nan]\n",
      "Unnamed: 22\t: [nan False]\n"
     ]
    }
   ],
   "source": [
    "for col in ['Status', 'Fulfilment', 'Sales Channel ', 'ship-service-level', 'Category', 'Size', 'currency',\n",
    "       'Courier Status', 'ship-state', 'ship-country', 'B2B', 'fulfilled-by', 'Unnamed: 22']:\n",
    "    print(f\"{col}\\t: {salesraw_df[col].unique()}\")"
   ]
  },
  {
   "cell_type": "markdown",
   "metadata": {},
   "source": [
    "1. The Unnamed: 22 column has no meaningful data, so we can drop it.\n",
    "2. Since there are 33 rows where ship-country, ship-postal-code, ship-state, and ship-city are null, we cannot determine the address. Therefore, we will keep these values as null.\n",
    "3. Some states and cities have the same meaning but are written in different styles. We will standardize them by converting them to lowercase.\n",
    "4. Since this dataset is based on the Indian platform, missing values in the currency column will be filled with \"INR\".\n",
    "5. The fulfilled-by column does not provide meaningful information, so we can drop it.\n",
    "6. Missing values in the promotion-ids column will be replaced with \"No Promotion\".\n",
    "7. Fill \"Courier Status\" with \"Cancelled\" when Status is \"Cancelled\""
   ]
  },
  {
   "cell_type": "markdown",
   "metadata": {},
   "source": [
    "## **Data Cleaning**"
   ]
  },
  {
   "cell_type": "code",
   "execution_count": 9,
   "metadata": {},
   "outputs": [],
   "source": [
    "salesclean_df = salesraw_df.copy()"
   ]
  },
  {
   "cell_type": "code",
   "execution_count": 10,
   "metadata": {},
   "outputs": [],
   "source": [
    "salesclean_df.rename(columns={'Qty': 'Quantity'}, inplace=True)"
   ]
  },
  {
   "cell_type": "code",
   "execution_count": 11,
   "metadata": {},
   "outputs": [
    {
     "name": "stdout",
     "output_type": "stream",
     "text": [
      "index                          int64\n",
      "Order ID                      object\n",
      "Date                  datetime64[ns]\n",
      "Status                        object\n",
      "Fulfilment                    object\n",
      "Sales Channel                 object\n",
      "ship-service-level            object\n",
      "Style                         object\n",
      "SKU                           object\n",
      "Category                      object\n",
      "Size                          object\n",
      "ASIN                          object\n",
      "Courier Status                object\n",
      "Quantity                       int64\n",
      "currency                      object\n",
      "Amount                       float64\n",
      "ship-city                     object\n",
      "ship-state                    object\n",
      "ship-postal-code              object\n",
      "ship-country                  object\n",
      "promotion-ids                 object\n",
      "B2B                             bool\n",
      "fulfilled-by                  object\n",
      "Unnamed: 22                   object\n",
      "dtype: object\n"
     ]
    }
   ],
   "source": [
    "salesclean_df = salesclean_df.astype({\n",
    "    'Date': 'datetime64[ns]',\n",
    "    'ship-postal-code': 'object'\n",
    "})\n",
    "\n",
    "print(salesclean_df.dtypes)"
   ]
  },
  {
   "cell_type": "code",
   "execution_count": 12,
   "metadata": {},
   "outputs": [],
   "source": [
    "salesclean_df.drop(columns=['Unnamed: 22'], inplace=True)\n",
    "salesclean_df.drop(columns=['fulfilled-by'], inplace=True)"
   ]
  },
  {
   "cell_type": "code",
   "execution_count": 13,
   "metadata": {},
   "outputs": [],
   "source": [
    "salesclean_df['ship-state'] = salesclean_df['ship-state'].str.lower().str.strip()\n",
    "salesclean_df['ship-city'] = salesclean_df['ship-city'].str.lower().str.strip()"
   ]
  },
  {
   "cell_type": "code",
   "execution_count": 14,
   "metadata": {},
   "outputs": [],
   "source": [
    "salesclean_df['currency'] = salesclean_df['currency'].fillna('INR')"
   ]
  },
  {
   "cell_type": "code",
   "execution_count": 15,
   "metadata": {},
   "outputs": [],
   "source": [
    "salesclean_df['promotion-ids'] = salesclean_df['promotion-ids'].fillna('No Promotion')"
   ]
  },
  {
   "cell_type": "code",
   "execution_count": 16,
   "metadata": {},
   "outputs": [],
   "source": [
    "salesclean_df.loc[salesclean_df['Status'] == 'Shipped - Returned to Seller', 'Courier Status'] = 'Shipped'\n",
    "salesclean_df.loc[salesclean_df['Status'] == 'Shipped - Delivered to Buyer', 'Courier Status'] = 'Shipped'\n",
    "\n",
    "import numpy as np\n",
    "\n",
    "mask = (salesclean_df['Status'] == 'Cancelled') & (salesclean_df['Courier Status'].isnull())\n",
    "\n",
    "salesclean_df.loc[mask, 'Courier Status'] = np.random.choice(\n",
    "    ['Cancelled', 'Unshipped'], \n",
    "    size=mask.sum(), \n",
    "    p=[0.51, 0.49]\n",
    ")"
   ]
  },
  {
   "cell_type": "code",
   "execution_count": 17,
   "metadata": {},
   "outputs": [],
   "source": [
    "salesclean_df.loc[salesclean_df['Quantity'] == 0, 'Quantity'] = 1"
   ]
  },
  {
   "cell_type": "code",
   "execution_count": 18,
   "metadata": {},
   "outputs": [
    {
     "name": "stderr",
     "output_type": "stream",
     "text": [
      "C:\\Users\\Abdullah NJ\\AppData\\Local\\Temp\\ipykernel_19200\\1406716831.py:14: DeprecationWarning: DataFrameGroupBy.apply operated on the grouping columns. This behavior is deprecated, and in a future version of pandas the grouping columns will be excluded from the operation. Either pass `include_groups=False` to exclude the groupings or explicitly select the grouping columns after groupby to silence this warning.\n",
      "  .apply(fill_amount_based_on_unit_price)\n"
     ]
    }
   ],
   "source": [
    "def fill_amount_based_on_unit_price(group):\n",
    "    valid_rows = group.loc[(group['Amount'] > 0) & (group['Quantity'] > 0)]\n",
    "    \n",
    "    if not valid_rows.empty:\n",
    "        unit_price = (valid_rows['Amount'] / valid_rows['Quantity']).median()\n",
    "        group['Amount'] = group['Amount'].mask(group['Amount'] == 0, group['Quantity'] * unit_price)\n",
    "        group['Amount'] = group['Amount'].fillna(group['Quantity'] * unit_price)\n",
    "    \n",
    "    return group\n",
    "\n",
    "salesclean_df = (\n",
    "    salesclean_df\n",
    "    .groupby(['SKU'], group_keys=False)\n",
    "    .apply(fill_amount_based_on_unit_price)\n",
    "    .reset_index(drop=True)\n",
    ")"
   ]
  },
  {
   "cell_type": "code",
   "execution_count": 19,
   "metadata": {},
   "outputs": [],
   "source": [
    "salesclean_df['ship-city'] = (\n",
    "    salesclean_df['ship-city']\n",
    "    .astype(str)\n",
    "    .str.replace(r'[^a-zA-Z\\s]', '', regex=True)\n",
    "    .str.replace(r'\\b(?:district|dist)\\b', '', regex=True)\n",
    "    .str.strip()\n",
    ")"
   ]
  },
  {
   "cell_type": "code",
   "execution_count": 22,
   "metadata": {},
   "outputs": [],
   "source": [
    "salesclean_df['ship-state'] = salesclean_df['ship-state'].replace('ar', 'Arunachal Pradesh')\n",
    "salesclean_df['ship-state'] = salesclean_df['ship-state'].replace('dadra and nagar', 'Dadra and Nagar Haveli and Daman and Diu')\n",
    "salesclean_df['ship-state'] = salesclean_df['ship-state'].replace('new delhi', 'Delhi')\n",
    "salesclean_df['ship-state'] = salesclean_df['ship-state'].replace('nl', 'Nagaland')\n",
    "salesclean_df['ship-state'] = salesclean_df['ship-state'].replace('apo', 'Napo')\n",
    "salesclean_df['ship-state'] = salesclean_df['ship-state'].replace('pb', 'Punjab')\n",
    "salesclean_df['ship-state'] = salesclean_df['ship-state'].replace('punjab/mohali/zirakpur', 'Punjab')\n",
    "salesclean_df['ship-state'] = salesclean_df['ship-state'].replace('rajshthan', 'Rajasthan')\n",
    "salesclean_df['ship-state'] = salesclean_df['ship-state'].replace('rajsthan', 'Rajasthan')\n",
    "salesclean_df['ship-state'] = salesclean_df['ship-state'].replace('rj', 'Rajasthan')"
   ]
  },
  {
   "cell_type": "code",
   "execution_count": 24,
   "metadata": {},
   "outputs": [],
   "source": [
    "salesclean_df[['ship-state', 'ship-city']] = salesclean_df[['ship-state', 'ship-city']].apply(lambda x: x.str.title())"
   ]
  },
  {
   "cell_type": "code",
   "execution_count": 20,
   "metadata": {},
   "outputs": [
    {
     "data": {
      "text/plain": [
       "Amount                48\n",
       "ship-country          33\n",
       "ship-postal-code      33\n",
       "ship-state            33\n",
       "index                  0\n",
       "Order ID               0\n",
       "promotion-ids          0\n",
       "ship-city              0\n",
       "currency               0\n",
       "Quantity               0\n",
       "Courier Status         0\n",
       "ASIN                   0\n",
       "Size                   0\n",
       "Category               0\n",
       "SKU                    0\n",
       "Style                  0\n",
       "ship-service-level     0\n",
       "Sales Channel          0\n",
       "Fulfilment             0\n",
       "Status                 0\n",
       "Date                   0\n",
       "B2B                    0\n",
       "dtype: int64"
      ]
     },
     "execution_count": 20,
     "metadata": {},
     "output_type": "execute_result"
    }
   ],
   "source": [
    "salesclean_df.isnull().sum().sort_values(ascending=False)"
   ]
  },
  {
   "cell_type": "markdown",
   "metadata": {},
   "source": [
    "Result"
   ]
  },
  {
   "cell_type": "code",
   "execution_count": 21,
   "metadata": {},
   "outputs": [],
   "source": [
    "salesfinal_df = salesclean_df.copy()"
   ]
  }
 ],
 "metadata": {
  "kernelspec": {
   "display_name": "Python 3",
   "language": "python",
   "name": "python3"
  },
  "language_info": {
   "codemirror_mode": {
    "name": "ipython",
    "version": 3
   },
   "file_extension": ".py",
   "mimetype": "text/x-python",
   "name": "python",
   "nbconvert_exporter": "python",
   "pygments_lexer": "ipython3",
   "version": "3.12.2"
  }
 },
 "nbformat": 4,
 "nbformat_minor": 2
}
